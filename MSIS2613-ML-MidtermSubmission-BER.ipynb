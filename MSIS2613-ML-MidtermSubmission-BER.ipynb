{
 "cells": [
  {
   "cell_type": "code",
   "execution_count": 2,
   "metadata": {},
   "outputs": [],
   "source": [
    "# print all the outputs in a cell\n",
    "from IPython.core.interactiveshell import InteractiveShell\n",
    "InteractiveShell.ast_node_interactivity = \"all\""
   ]
  },
  {
   "cell_type": "markdown",
   "metadata": {},
   "source": [
    "### <b> Importing Modules </b>"
   ]
  },
  {
   "cell_type": "code",
   "execution_count": 3,
   "metadata": {},
   "outputs": [],
   "source": [
    "import pandas as pd\n",
    "import scipy.spatial.distance as dist\n",
    "import numpy as np\n",
    "from sklearn import metrics\n",
    "import statistics\n",
    "from sklearn.decomposition import PCA\n",
    "from collections import defaultdict\n",
    "from sklearn.preprocessing import StandardScaler\n",
    "from sklearn.metrics.pairwise import euclidean_distances\n",
    "\n",
    "\n",
    "import warnings\n",
    "warnings.filterwarnings(\"ignore\")"
   ]
  },
  {
   "cell_type": "markdown",
   "metadata": {},
   "source": [
    "### Scaling Data using MinMaxScaler"
   ]
  },
  {
   "cell_type": "code",
   "execution_count": 4,
   "metadata": {},
   "outputs": [],
   "source": [
    "import pandas as pd\n",
    "from sklearn.preprocessing import MinMaxScaler\n",
    "scaler = MinMaxScaler()"
   ]
  },
  {
   "cell_type": "code",
   "execution_count": 5,
   "metadata": {},
   "outputs": [],
   "source": [
    "df = pd.read_csv(\"mid-term-data.csv\")"
   ]
  },
  {
   "cell_type": "code",
   "execution_count": 6,
   "metadata": {},
   "outputs": [],
   "source": [
    "df_scaled = pd.DataFrame(scaler.fit_transform(df.values), columns=df.columns, index=df.index)"
   ]
  },
  {
   "cell_type": "code",
   "execution_count": 7,
   "metadata": {
    "scrolled": true
   },
   "outputs": [
    {
     "data": {
      "text/html": [
       "<div>\n",
       "<style scoped>\n",
       "    .dataframe tbody tr th:only-of-type {\n",
       "        vertical-align: middle;\n",
       "    }\n",
       "\n",
       "    .dataframe tbody tr th {\n",
       "        vertical-align: top;\n",
       "    }\n",
       "\n",
       "    .dataframe thead th {\n",
       "        text-align: right;\n",
       "    }\n",
       "</style>\n",
       "<table border=\"1\" class=\"dataframe\">\n",
       "  <thead>\n",
       "    <tr style=\"text-align: right;\">\n",
       "      <th></th>\n",
       "      <th>f1</th>\n",
       "      <th>f2</th>\n",
       "      <th>f3</th>\n",
       "      <th>f4</th>\n",
       "      <th>f5</th>\n",
       "      <th>f6</th>\n",
       "      <th>f7</th>\n",
       "      <th>f8</th>\n",
       "      <th>f9</th>\n",
       "      <th>f10</th>\n",
       "      <th>f11</th>\n",
       "      <th>f12</th>\n",
       "      <th>f13</th>\n",
       "    </tr>\n",
       "  </thead>\n",
       "  <tbody>\n",
       "    <tr>\n",
       "      <th>0</th>\n",
       "      <td>0.842105</td>\n",
       "      <td>0.191700</td>\n",
       "      <td>0.572193</td>\n",
       "      <td>0.257732</td>\n",
       "      <td>0.619565</td>\n",
       "      <td>0.627586</td>\n",
       "      <td>0.573840</td>\n",
       "      <td>0.283019</td>\n",
       "      <td>0.593060</td>\n",
       "      <td>0.372014</td>\n",
       "      <td>0.455285</td>\n",
       "      <td>0.970696</td>\n",
       "      <td>0.561341</td>\n",
       "    </tr>\n",
       "    <tr>\n",
       "      <th>1</th>\n",
       "      <td>0.571053</td>\n",
       "      <td>0.205534</td>\n",
       "      <td>0.417112</td>\n",
       "      <td>0.030928</td>\n",
       "      <td>0.326087</td>\n",
       "      <td>0.575862</td>\n",
       "      <td>0.510549</td>\n",
       "      <td>0.245283</td>\n",
       "      <td>0.274448</td>\n",
       "      <td>0.264505</td>\n",
       "      <td>0.463415</td>\n",
       "      <td>0.780220</td>\n",
       "      <td>0.550642</td>\n",
       "    </tr>\n",
       "    <tr>\n",
       "      <th>2</th>\n",
       "      <td>0.560526</td>\n",
       "      <td>0.320158</td>\n",
       "      <td>0.700535</td>\n",
       "      <td>0.412371</td>\n",
       "      <td>0.336957</td>\n",
       "      <td>0.627586</td>\n",
       "      <td>0.611814</td>\n",
       "      <td>0.320755</td>\n",
       "      <td>0.757098</td>\n",
       "      <td>0.375427</td>\n",
       "      <td>0.447154</td>\n",
       "      <td>0.695971</td>\n",
       "      <td>0.646933</td>\n",
       "    </tr>\n",
       "    <tr>\n",
       "      <th>3</th>\n",
       "      <td>0.878947</td>\n",
       "      <td>0.239130</td>\n",
       "      <td>0.609626</td>\n",
       "      <td>0.319588</td>\n",
       "      <td>0.467391</td>\n",
       "      <td>0.989655</td>\n",
       "      <td>0.664557</td>\n",
       "      <td>0.207547</td>\n",
       "      <td>0.558360</td>\n",
       "      <td>0.556314</td>\n",
       "      <td>0.308943</td>\n",
       "      <td>0.798535</td>\n",
       "      <td>0.857347</td>\n",
       "    </tr>\n",
       "    <tr>\n",
       "      <th>4</th>\n",
       "      <td>0.581579</td>\n",
       "      <td>0.365613</td>\n",
       "      <td>0.807487</td>\n",
       "      <td>0.536082</td>\n",
       "      <td>0.521739</td>\n",
       "      <td>0.627586</td>\n",
       "      <td>0.495781</td>\n",
       "      <td>0.490566</td>\n",
       "      <td>0.444795</td>\n",
       "      <td>0.259386</td>\n",
       "      <td>0.455285</td>\n",
       "      <td>0.608059</td>\n",
       "      <td>0.325963</td>\n",
       "    </tr>\n",
       "  </tbody>\n",
       "</table>\n",
       "</div>"
      ],
      "text/plain": [
       "         f1        f2        f3        f4        f5        f6        f7  \\\n",
       "0  0.842105  0.191700  0.572193  0.257732  0.619565  0.627586  0.573840   \n",
       "1  0.571053  0.205534  0.417112  0.030928  0.326087  0.575862  0.510549   \n",
       "2  0.560526  0.320158  0.700535  0.412371  0.336957  0.627586  0.611814   \n",
       "3  0.878947  0.239130  0.609626  0.319588  0.467391  0.989655  0.664557   \n",
       "4  0.581579  0.365613  0.807487  0.536082  0.521739  0.627586  0.495781   \n",
       "\n",
       "         f8        f9       f10       f11       f12       f13  \n",
       "0  0.283019  0.593060  0.372014  0.455285  0.970696  0.561341  \n",
       "1  0.245283  0.274448  0.264505  0.463415  0.780220  0.550642  \n",
       "2  0.320755  0.757098  0.375427  0.447154  0.695971  0.646933  \n",
       "3  0.207547  0.558360  0.556314  0.308943  0.798535  0.857347  \n",
       "4  0.490566  0.444795  0.259386  0.455285  0.608059  0.325963  "
      ]
     },
     "execution_count": 7,
     "metadata": {},
     "output_type": "execute_result"
    }
   ],
   "source": [
    "df_scaled.head()"
   ]
  },
  {
   "cell_type": "markdown",
   "metadata": {},
   "source": [
    "### <b> Optional to use the PFA reduction technique </b>"
   ]
  },
  {
   "cell_type": "code",
   "execution_count": 8,
   "metadata": {},
   "outputs": [],
   "source": [
    "#Using this just for PFA calculations\n",
    "from sklearn.cluster import KMeans"
   ]
  },
  {
   "cell_type": "code",
   "execution_count": 9,
   "metadata": {},
   "outputs": [],
   "source": [
    "#https://stats.stackexchange.com/questions/108743/methods-in-r-or-python-to-perform-feature-selection-in-unsupervised-learning\n",
    "class PFA(object):\n",
    "    def __init__(self, n_features, q=None):\n",
    "        self.q = q\n",
    "        self.n_features = n_features\n",
    "\n",
    "    def fit(self, X):\n",
    "        if not self.q:\n",
    "            self.q = X.shape[1]\n",
    "\n",
    "        sc = StandardScaler()\n",
    "        X = sc.fit_transform(X)\n",
    "\n",
    "        pca = PCA(n_components=self.q).fit(X)\n",
    "        A_q = pca.components_.T\n",
    "\n",
    "        kmeans = KMeans(n_clusters=self.n_features).fit(A_q)\n",
    "        clusters = kmeans.predict(A_q)\n",
    "        cluster_centers = kmeans.cluster_centers_\n",
    "\n",
    "        dists = defaultdict(list)\n",
    "        for i, c in enumerate(clusters):\n",
    "            dist = euclidean_distances([A_q[i, :]], [cluster_centers[c, :]])[0][0]\n",
    "            dists[c].append((i, dist))\n",
    "\n",
    "        self.indices_ = [sorted(f, key=lambda x: x[1])[0][0] for f in dists.values()]\n",
    "        self.features_ = X[:, self.indices_]"
   ]
  },
  {
   "cell_type": "code",
   "execution_count": 10,
   "metadata": {},
   "outputs": [],
   "source": [
    "pfa = PFA(n_features=10)\n",
    "pfa.fit(df)\n",
    "# To get the transformed matrix\n",
    "x = pfa.features_\n",
    "# To get the column indices of the features that need to be kept\n",
    "column_indices = pfa.indices_"
   ]
  },
  {
   "cell_type": "code",
   "execution_count": 11,
   "metadata": {},
   "outputs": [
    {
     "data": {
      "text/plain": [
       "[0, 1, 2, 3, 4, 5, 7, 8, 9, 12]"
      ]
     },
     "execution_count": 11,
     "metadata": {},
     "output_type": "execute_result"
    }
   ],
   "source": [
    "column_indices"
   ]
  },
  {
   "cell_type": "code",
   "execution_count": 12,
   "metadata": {},
   "outputs": [],
   "source": [
    "df_featured=df_scaled[['f1','f2','f3','f4','f5','f6','f8','f10','f13']]"
   ]
  },
  {
   "cell_type": "markdown",
   "metadata": {},
   "source": [
    "### Clustering Algorithm"
   ]
  },
  {
   "cell_type": "code",
   "execution_count": 13,
   "metadata": {},
   "outputs": [],
   "source": [
    "class KMeans_custom(object):\n",
    "    '''\n",
    "    This is the constructor of our KMeans_custom object to which we can pass 4 optional attributes.\n",
    "    1. n_clusters --> signifies number of clusters, default value = 8\n",
    "    2. max_iter --> maximum number of iterations before you want to stop, default value = 200\n",
    "    3. dist_metric --> choice of distance metric, default value = euclidean, \n",
    "                         possible choices = ['euclidean','manhattan','cosine','chebyshev','canberra']\n",
    "    4. random_state --> random seed value to pick our centroids, default value = None\n",
    "    '''\n",
    "    def __init__(self, n_clusters=8, max_iter=200, dist_metric='euclidean', random_state=None):\n",
    "        self.n_clusters = n_clusters\n",
    "        self.max_iter = max_iter\n",
    "        self.random_state = random_state\n",
    "        self.dist_metric = dist_metric\n",
    "\n",
    "    #the fit function does calculation of labels for max_iter number of iterations based on input or default\n",
    "    def fit(self, X):\n",
    "        \n",
    "        #fit requires input to be a numpy array so converting to numpy array if DataFrame is passed as input\n",
    "        if type(X) == pd.core.frame.DataFrame:\n",
    "            X = X.to_numpy()\n",
    "            \n",
    "        #using random_state to pick up initial k-cluster centroids\n",
    "        if self.random_state:\n",
    "            np.random.seed(self.random_state)\n",
    "        initial = np.random.permutation(X.shape[0])[:self.n_clusters]\n",
    "        self.cluster_centers_ = X[initial]\n",
    "        count = 0\n",
    "        prev_labels = []\n",
    "        #running through multiple iterations to find our labels while updating our cluster_centers\n",
    "        for _ in range(self.max_iter):\n",
    "            #calculate labels\n",
    "            self.labels_ = [self._nearest(self.cluster_centers_, x, self.dist_metric) for x in X]\n",
    "            index_rows = [[i for i, l in enumerate(self.labels_) if l == j]\n",
    "                        for j in range(self.n_clusters)]\n",
    "            clusters_data = [X[i] for i in index_rows]\n",
    "            # update the clusters_centers\n",
    "            self.cluster_centers_ = [c.sum(axis=0) / len(c) for c in clusters_data]\n",
    "            count+=1\n",
    "            #to check if labels actually change in each iteration, break early if convergence met\n",
    "            if(prev_labels == self.labels_):\n",
    "                break\n",
    "            prev_labels = self.labels_\n",
    "        \n",
    "        \n",
    "        #sum of square distances from the closest cluster\n",
    "        print(\"No. of iterations to convergence: \" +str(count))\n",
    "        \n",
    "        #calculating our inertia after fitting the data once convergence is met\n",
    "        self.inertia_ = sum(((self.cluster_centers_[l] - x)**2).sum()\n",
    "                        for x, l in zip(X, self.labels_))\n",
    "        return self\n",
    "    \n",
    "    def _nearest(self, clusters, x, dist_metric):\n",
    "        #returns which cluster_center is a specific point in our dataset closest to\n",
    "        return np.argmin([self._distance(x, c,dist_metric) for c in clusters])\n",
    "\n",
    "    def _distance(self, a, b, dist_metric):\n",
    "        #distance metric to be used for distance calculation\n",
    "        if dist_metric == 'manhattan':  \n",
    "            return dist.cityblock(a,b)\n",
    "        elif dist_metric == 'cosine':  \n",
    "            return dist.cosine(a,b)\n",
    "        elif dist_metric == 'chebyshev':  \n",
    "            return dist.chebyshev(a,b)\n",
    "        elif dist_metric == 'canberra':  \n",
    "            return dist.canberra(a,b)\n",
    "        else:\n",
    "            return dist.euclidean(a,b)\n",
    "\n",
    "    def predict(self, X):\n",
    "        #returning labels calculated in the fit method\n",
    "        return self.labels_\n",
    "\n",
    "    def transform(self, X):\n",
    "        #transform helps us to convert the original df/nparray to a cluster distance space if needed\n",
    "        return [[self._distance(x, c,dist_metric) for c in self.cluster_centers_] for x in X]\n",
    "\n",
    "    #shortcut methods to fit-predict or fit-transform\n",
    "    def fit_predict(self, X):\n",
    "        return self.fit(X).predict(X)\n",
    "\n",
    "    def fit_transform(self, X):\n",
    "        return self.fit(X).transform(X)"
   ]
  },
  {
   "cell_type": "markdown",
   "metadata": {},
   "source": [
    "### Optimal Number of Clusters"
   ]
  },
  {
   "cell_type": "markdown",
   "metadata": {},
   "source": [
    "#### The optimal number of clusters is determined using 4 different metrics to make our model more comprehensive\n",
    "The four metrics are: inertia score, silhouette score, calinski harabaz index & davies bouldin score"
   ]
  },
  {
   "cell_type": "code",
   "execution_count": 14,
   "metadata": {
    "scrolled": true
   },
   "outputs": [],
   "source": [
    "def optimal_clusters(data):\n",
    "    #empty lists to record our results\n",
    "    inertia_s=[]\n",
    "    sil_s = []\n",
    "    ch_s = []\n",
    "    db_s = []\n",
    "    \n",
    "    #generating metric values of range of k from 2 to 9\n",
    "    \n",
    "    for k in range(2,10):\n",
    "        print(\"No. of clusters: \"+str(k))\n",
    "        model = KMeans_custom(n_clusters=k,max_iter=200,random_state=2).fit(data)\n",
    "        labels = model.predict(data)\n",
    "        inertia_s.append(model.inertia_)\n",
    "        sil_s.append(metrics.silhouette_score(data, labels)) \n",
    "        ch_s.append(metrics.calinski_harabaz_score(data, labels)) \n",
    "        db_s.append(metrics.davies_bouldin_score(data,labels))\n",
    "        \n",
    "    #finding number of clusters where inertia is closer to mean of all inertia's, trying to find the sweet spot\n",
    "    mean_inertia = np.mean(inertia_s)\n",
    "    best_inertia_index = (np.abs(inertia_s - mean_inertia)).argmin()\n",
    "    \n",
    "    #silhouette score closer to 1 is better hence taking max\n",
    "    best_silhouette_index = np.argmax(sil_s)\n",
    "    \n",
    "    #a higher calinski-harabaz score represents better clustering hence max\n",
    "    best_ch_index = np.argmax(ch_s)\n",
    "    \n",
    "    #lower davies-bouldin score shows good clustering so min\n",
    "    best_db_index = np.argmin(db_s)\n",
    "    \n",
    "    #taking num_clusters which has a majority in terms of good performance as per the used performance measurement metrics\n",
    "    best_cluster_num = statistics.mode(np.array([best_inertia_index,best_silhouette_index,best_ch_index,best_db_index]))\n",
    "\n",
    "    return best_cluster_num+2\n",
    "    "
   ]
  },
  {
   "cell_type": "code",
   "execution_count": 15,
   "metadata": {},
   "outputs": [
    {
     "name": "stdout",
     "output_type": "stream",
     "text": [
      "No. of clusters: 2\n",
      "No. of iterations to convergence: 19\n",
      "No. of clusters: 3\n",
      "No. of iterations to convergence: 5\n",
      "No. of clusters: 4\n",
      "No. of iterations to convergence: 5\n",
      "No. of clusters: 5\n",
      "No. of iterations to convergence: 13\n",
      "No. of clusters: 6\n",
      "No. of iterations to convergence: 12\n",
      "No. of clusters: 7\n",
      "No. of iterations to convergence: 6\n",
      "No. of clusters: 8\n",
      "No. of iterations to convergence: 7\n",
      "No. of clusters: 9\n",
      "No. of iterations to convergence: 9\n"
     ]
    }
   ],
   "source": [
    "optimal_cluster_num = optimal_clusters(df_scaled)"
   ]
  },
  {
   "cell_type": "markdown",
   "metadata": {},
   "source": [
    "#### Optimal number of clusters"
   ]
  },
  {
   "cell_type": "code",
   "execution_count": 16,
   "metadata": {},
   "outputs": [
    {
     "data": {
      "text/plain": [
       "3"
      ]
     },
     "execution_count": 16,
     "metadata": {},
     "output_type": "execute_result"
    }
   ],
   "source": [
    "optimal_cluster_num"
   ]
  },
  {
   "cell_type": "markdown",
   "metadata": {},
   "source": [
    "### Determining Optimal Distance Metric"
   ]
  },
  {
   "cell_type": "code",
   "execution_count": 17,
   "metadata": {},
   "outputs": [],
   "source": [
    "def best_distance_metric(data):\n",
    "    inertia_s=[]\n",
    "    sil_s = []\n",
    "    ch_s = []\n",
    "    db_s = []\n",
    "    \n",
    "    distance = ['euclidean','manhattan','cosine','chebyshev','canberra']\n",
    "    #generating metric for difference distance metrics\n",
    "    for i in distance:\n",
    "        print(\"Distance metric: \"+str(i))\n",
    "        optimizing_obj = KMeans_custom(n_clusters=optimal_cluster_num, max_iter=300, dist_metric=i, random_state=2).fit(data)\n",
    "        labels = optimizing_obj.predict(data)\n",
    "        inertia_s.append(optimizing_obj.inertia_)\n",
    "        sil_s.append(metrics.silhouette_score(data, labels)) \n",
    "        ch_s.append(metrics.calinski_harabaz_score(data, labels)) \n",
    "        db_s.append(metrics.davies_bouldin_score(data,labels))\n",
    "    \n",
    "    #finding number of clusters where inertia is closer to mean of all inertia's, trying to find the sweet spot\n",
    "    mean_inertia = np.mean(inertia_s)\n",
    "    best_inertia_index = (np.abs(inertia_s - mean_inertia)).argmin()\n",
    "    \n",
    "    #silhouette score closer to 1 is better hence taking max\n",
    "    best_silhouette_index = np.argmax(sil_s)\n",
    "    \n",
    "    #a higher calinski-harabaz score represents better clustering hence max\n",
    "    best_ch_index = np.argmax(ch_s)\n",
    "    \n",
    "    #lower davies-bouldin score shows good clustering so min\n",
    "    best_db_index = np.argmin(db_s)\n",
    "  \n",
    "    #choosing distance metric which has a majority in terms of good performance\n",
    "    #as per the used performance measurement metrics\n",
    "    dist_met_index = statistics.mode(np.array([best_inertia_index,best_silhouette_index,best_ch_index,best_db_index]))\n",
    "    best_dist_metric = distance[dist_met_index]\n",
    "\n",
    "    return best_dist_metric"
   ]
  },
  {
   "cell_type": "code",
   "execution_count": 18,
   "metadata": {},
   "outputs": [
    {
     "name": "stdout",
     "output_type": "stream",
     "text": [
      "Distance metric: euclidean\n",
      "No. of iterations to convergence: 5\n",
      "Distance metric: manhattan\n",
      "No. of iterations to convergence: 6\n",
      "Distance metric: cosine\n",
      "No. of iterations to convergence: 4\n",
      "Distance metric: chebyshev\n",
      "No. of iterations to convergence: 6\n",
      "Distance metric: canberra\n",
      "No. of iterations to convergence: 5\n"
     ]
    }
   ],
   "source": [
    "best_distance_metric = best_distance_metric(df_scaled)"
   ]
  },
  {
   "cell_type": "markdown",
   "metadata": {},
   "source": [
    "#### Best distance metric"
   ]
  },
  {
   "cell_type": "code",
   "execution_count": 19,
   "metadata": {},
   "outputs": [
    {
     "data": {
      "text/plain": [
       "'euclidean'"
      ]
     },
     "execution_count": 19,
     "metadata": {},
     "output_type": "execute_result"
    }
   ],
   "source": [
    "best_distance_metric"
   ]
  },
  {
   "cell_type": "markdown",
   "metadata": {},
   "source": [
    "### <b> Final Run - Output </b>"
   ]
  },
  {
   "cell_type": "markdown",
   "metadata": {},
   "source": [
    "Using our ideal distance metric and optimal cluster number"
   ]
  },
  {
   "cell_type": "code",
   "execution_count": 20,
   "metadata": {},
   "outputs": [
    {
     "name": "stdout",
     "output_type": "stream",
     "text": [
      "No. of iterations to convergence: 5\n",
      "Inertia Score: 48.97029115513914\n",
      "Silhouette Score: 0.29936674064895064\n",
      "Calinski-Harabaz Score: 83.3170271984246\n",
      "Davies Bouldin Score: 1.3095913112417223\n"
     ]
    }
   ],
   "source": [
    "model = KMeans_custom(n_clusters=optimal_cluster_num,dist_metric=best_distance_metric,max_iter=200,random_state=2).fit(df_scaled)\n",
    "labels = model.predict(df_scaled)\n",
    "print(\"Inertia Score: \" +str(model.inertia_))\n",
    "print(\"Silhouette Score: \" +str(metrics.silhouette_score(df_scaled, labels)))\n",
    "print(\"Calinski-Harabaz Score: \" +str(metrics.calinski_harabaz_score(df_scaled, labels)))\n",
    "print(\"Davies Bouldin Score: \" +str(metrics.davies_bouldin_score(df_scaled,labels)))"
   ]
  },
  {
   "cell_type": "code",
   "execution_count": 21,
   "metadata": {},
   "outputs": [],
   "source": [
    "df['predicted_labels'] = labels"
   ]
  },
  {
   "cell_type": "code",
   "execution_count": 23,
   "metadata": {},
   "outputs": [],
   "source": [
    "#write output to file\n",
    "df.to_csv(\"predicted_Custom_Kmeans.csv\")"
   ]
  },
  {
   "cell_type": "markdown",
   "metadata": {},
   "source": [
    "### Evaluation Analysis"
   ]
  },
  {
   "cell_type": "code",
   "execution_count": 29,
   "metadata": {},
   "outputs": [],
   "source": [
    "# Modules\n",
    "import matplotlib.pyplot as plt\n",
    "from matplotlib.image import imread\n",
    "import pandas as pd\n",
    "import seaborn as sns\n",
    "from sklearn.datasets.samples_generator import (make_blobs,\n",
    "                                                make_circles,\n",
    "                                                make_moons)\n",
    "from sklearn.cluster import KMeans, SpectralClustering\n",
    "from sklearn.preprocessing import StandardScaler\n",
    "from sklearn.metrics import silhouette_samples, silhouette_score\n",
    "\n",
    "%matplotlib inline\n",
    "sns.set_context('notebook')\n",
    "plt.style.use('fivethirtyeight')\n",
    "from warnings import filterwarnings\n",
    "filterwarnings('ignore')"
   ]
  },
  {
   "cell_type": "markdown",
   "metadata": {},
   "source": [
    "### Elbow Plot"
   ]
  },
  {
   "cell_type": "markdown",
   "metadata": {},
   "source": [
    "Method to validate number of clusters. The idea is to run k-means clustering on the dataset for a range of values of k and calculate the sum of squared errors for each of those values\n",
    "The \"elbow\" on the arm is the value of k that is the best."
   ]
  },
  {
   "cell_type": "code",
   "execution_count": 30,
   "metadata": {},
   "outputs": [
    {
     "name": "stdout",
     "output_type": "stream",
     "text": [
      "No. of iterations to convergence: 2\n",
      "No. of iterations to convergence: 4\n",
      "No. of iterations to convergence: 6\n",
      "No. of iterations to convergence: 8\n",
      "No. of iterations to convergence: 9\n",
      "No. of iterations to convergence: 6\n",
      "No. of iterations to convergence: 9\n",
      "No. of iterations to convergence: 9\n",
      "No. of iterations to convergence: 13\n"
     ]
    },
    {
     "data": {
      "image/png": "[encoded data removed]",
      "text/plain": [
       "<Figure size 432x432 with 1 Axes>"
      ]
     },
     "metadata": {},
     "output_type": "display_data"
    }
   ],
   "source": [
    "#list storing the sum of squared errors\n",
    "ssd = []\n",
    "#generating inertia values for range of k from 1 to 10\n",
    "klist = list(range(1, 10))\n",
    "\n",
    "for k in klist:\n",
    "    km_elbow = KMeans_custom(n_clusters=k)\n",
    "    km_elbow.fit(df_scaled)\n",
    "    ssd.append(km_elbow.inertia_)\n",
    "\n",
    "# Plot ssd against k\n",
    "plt.figure(figsize=(6, 6))\n",
    "plt.plot(klist, ssd, '-o')\n",
    "plt.xlabel(r'Number of clusters -> k')\n",
    "plt.ylabel('Sum of squared distance');"
   ]
  },
  {
   "cell_type": "markdown",
   "metadata": {},
   "source": [
    "### Analysis based on Silhouette"
   ]
  },
  {
   "cell_type": "code",
   "execution_count": 31,
   "metadata": {},
   "outputs": [
    {
     "name": "stdout",
     "output_type": "stream",
     "text": [
      "No. of iterations to convergence: 7\n"
     ]
    },
    {
     "data": {
      "text/plain": [
       "<BarContainer object of 109 artists>"
      ]
     },
     "execution_count": 31,
     "metadata": {},
     "output_type": "execute_result"
    },
    {
     "data": {
      "text/plain": [
       "Text(-0.03, 54.5, '1')"
      ]
     },
     "execution_count": 31,
     "metadata": {},
     "output_type": "execute_result"
    },
    {
     "data": {
      "text/plain": [
       "<BarContainer object of 69 artists>"
      ]
     },
     "execution_count": 31,
     "metadata": {},
     "output_type": "execute_result"
    },
    {
     "data": {
      "text/plain": [
       "Text(-0.03, 143.5, '2')"
      ]
     },
     "execution_count": 31,
     "metadata": {},
     "output_type": "execute_result"
    },
    {
     "data": {
      "text/plain": [
       "<matplotlib.lines.Line2D at 0x205b8e3eba8>"
      ]
     },
     "execution_count": 31,
     "metadata": {},
     "output_type": "execute_result"
    },
    {
     "data": {
      "text/plain": [
       "[]"
      ]
     },
     "execution_count": 31,
     "metadata": {},
     "output_type": "execute_result"
    },
    {
     "data": {
      "text/plain": [
       "(-0.1, 1)"
      ]
     },
     "execution_count": 31,
     "metadata": {},
     "output_type": "execute_result"
    },
    {
     "data": {
      "text/plain": [
       "Text(0.5, 0, 'Silhouette coefficient values')"
      ]
     },
     "execution_count": 31,
     "metadata": {},
     "output_type": "execute_result"
    },
    {
     "data": {
      "text/plain": [
       "Text(0, 0.5, 'Cluster labels')"
      ]
     },
     "execution_count": 31,
     "metadata": {},
     "output_type": "execute_result"
    },
    {
     "data": {
      "text/plain": [
       "Text(0.5, 1.02, 'Silhouette plot for the various clusters')"
      ]
     },
     "execution_count": 31,
     "metadata": {},
     "output_type": "execute_result"
    },
    {
     "name": "stdout",
     "output_type": "stream",
     "text": [
      "No. of iterations to convergence: 7\n"
     ]
    },
    {
     "data": {
      "text/plain": [
       "<BarContainer object of 65 artists>"
      ]
     },
     "execution_count": 31,
     "metadata": {},
     "output_type": "execute_result"
    },
    {
     "data": {
      "text/plain": [
       "Text(-0.03, 32.5, '1')"
      ]
     },
     "execution_count": 31,
     "metadata": {},
     "output_type": "execute_result"
    },
    {
     "data": {
      "text/plain": [
       "<BarContainer object of 52 artists>"
      ]
     },
     "execution_count": 31,
     "metadata": {},
     "output_type": "execute_result"
    },
    {
     "data": {
      "text/plain": [
       "Text(-0.03, 91.0, '2')"
      ]
     },
     "execution_count": 31,
     "metadata": {},
     "output_type": "execute_result"
    },
    {
     "data": {
      "text/plain": [
       "<BarContainer object of 61 artists>"
      ]
     },
     "execution_count": 31,
     "metadata": {},
     "output_type": "execute_result"
    },
    {
     "data": {
      "text/plain": [
       "Text(-0.03, 147.5, '3')"
      ]
     },
     "execution_count": 31,
     "metadata": {},
     "output_type": "execute_result"
    },
    {
     "data": {
      "text/plain": [
       "<matplotlib.lines.Line2D at 0x205b8da54a8>"
      ]
     },
     "execution_count": 31,
     "metadata": {},
     "output_type": "execute_result"
    },
    {
     "data": {
      "text/plain": [
       "[]"
      ]
     },
     "execution_count": 31,
     "metadata": {},
     "output_type": "execute_result"
    },
    {
     "data": {
      "text/plain": [
       "(-0.1, 1)"
      ]
     },
     "execution_count": 31,
     "metadata": {},
     "output_type": "execute_result"
    },
    {
     "data": {
      "text/plain": [
       "Text(0.5, 0, 'Silhouette coefficient values')"
      ]
     },
     "execution_count": 31,
     "metadata": {},
     "output_type": "execute_result"
    },
    {
     "data": {
      "text/plain": [
       "Text(0, 0.5, 'Cluster labels')"
      ]
     },
     "execution_count": 31,
     "metadata": {},
     "output_type": "execute_result"
    },
    {
     "data": {
      "text/plain": [
       "Text(0.5, 1.02, 'Silhouette plot for the various clusters')"
      ]
     },
     "execution_count": 31,
     "metadata": {},
     "output_type": "execute_result"
    },
    {
     "name": "stdout",
     "output_type": "stream",
     "text": [
      "No. of iterations to convergence: 9\n"
     ]
    },
    {
     "data": {
      "text/plain": [
       "<BarContainer object of 54 artists>"
      ]
     },
     "execution_count": 31,
     "metadata": {},
     "output_type": "execute_result"
    },
    {
     "data": {
      "text/plain": [
       "Text(-0.03, 27.0, '1')"
      ]
     },
     "execution_count": 31,
     "metadata": {},
     "output_type": "execute_result"
    },
    {
     "data": {
      "text/plain": [
       "<BarContainer object of 61 artists>"
      ]
     },
     "execution_count": 31,
     "metadata": {},
     "output_type": "execute_result"
    },
    {
     "data": {
      "text/plain": [
       "Text(-0.03, 84.5, '2')"
      ]
     },
     "execution_count": 31,
     "metadata": {},
     "output_type": "execute_result"
    },
    {
     "data": {
      "text/plain": [
       "<BarContainer object of 29 artists>"
      ]
     },
     "execution_count": 31,
     "metadata": {},
     "output_type": "execute_result"
    },
    {
     "data": {
      "text/plain": [
       "Text(-0.03, 129.5, '3')"
      ]
     },
     "execution_count": 31,
     "metadata": {},
     "output_type": "execute_result"
    },
    {
     "data": {
      "text/plain": [
       "<BarContainer object of 34 artists>"
      ]
     },
     "execution_count": 31,
     "metadata": {},
     "output_type": "execute_result"
    },
    {
     "data": {
      "text/plain": [
       "Text(-0.03, 161.0, '4')"
      ]
     },
     "execution_count": 31,
     "metadata": {},
     "output_type": "execute_result"
    },
    {
     "data": {
      "text/plain": [
       "<matplotlib.lines.Line2D at 0x205b9b0f5f8>"
      ]
     },
     "execution_count": 31,
     "metadata": {},
     "output_type": "execute_result"
    },
    {
     "data": {
      "text/plain": [
       "[]"
      ]
     },
     "execution_count": 31,
     "metadata": {},
     "output_type": "execute_result"
    },
    {
     "data": {
      "text/plain": [
       "(-0.1, 1)"
      ]
     },
     "execution_count": 31,
     "metadata": {},
     "output_type": "execute_result"
    },
    {
     "data": {
      "text/plain": [
       "Text(0.5, 0, 'Silhouette coefficient values')"
      ]
     },
     "execution_count": 31,
     "metadata": {},
     "output_type": "execute_result"
    },
    {
     "data": {
      "text/plain": [
       "Text(0, 0.5, 'Cluster labels')"
      ]
     },
     "execution_count": 31,
     "metadata": {},
     "output_type": "execute_result"
    },
    {
     "data": {
      "text/plain": [
       "Text(0.5, 1.02, 'Silhouette plot for the various clusters')"
      ]
     },
     "execution_count": 31,
     "metadata": {},
     "output_type": "execute_result"
    },
    {
     "name": "stdout",
     "output_type": "stream",
     "text": [
      "No. of iterations to convergence: 8\n"
     ]
    },
    {
     "data": {
      "text/plain": [
       "<BarContainer object of 27 artists>"
      ]
     },
     "execution_count": 31,
     "metadata": {},
     "output_type": "execute_result"
    },
    {
     "data": {
      "text/plain": [
       "Text(-0.03, 13.5, '1')"
      ]
     },
     "execution_count": 31,
     "metadata": {},
     "output_type": "execute_result"
    },
    {
     "data": {
      "text/plain": [
       "<BarContainer object of 30 artists>"
      ]
     },
     "execution_count": 31,
     "metadata": {},
     "output_type": "execute_result"
    },
    {
     "data": {
      "text/plain": [
       "Text(-0.03, 42.0, '2')"
      ]
     },
     "execution_count": 31,
     "metadata": {},
     "output_type": "execute_result"
    },
    {
     "data": {
      "text/plain": [
       "<BarContainer object of 25 artists>"
      ]
     },
     "execution_count": 31,
     "metadata": {},
     "output_type": "execute_result"
    },
    {
     "data": {
      "text/plain": [
       "Text(-0.03, 69.5, '3')"
      ]
     },
     "execution_count": 31,
     "metadata": {},
     "output_type": "execute_result"
    },
    {
     "data": {
      "text/plain": [
       "<BarContainer object of 41 artists>"
      ]
     },
     "execution_count": 31,
     "metadata": {},
     "output_type": "execute_result"
    },
    {
     "data": {
      "text/plain": [
       "Text(-0.03, 102.5, '4')"
      ]
     },
     "execution_count": 31,
     "metadata": {},
     "output_type": "execute_result"
    },
    {
     "data": {
      "text/plain": [
       "<BarContainer object of 55 artists>"
      ]
     },
     "execution_count": 31,
     "metadata": {},
     "output_type": "execute_result"
    },
    {
     "data": {
      "text/plain": [
       "Text(-0.03, 150.5, '5')"
      ]
     },
     "execution_count": 31,
     "metadata": {},
     "output_type": "execute_result"
    },
    {
     "data": {
      "text/plain": [
       "<matplotlib.lines.Line2D at 0x205b8c02ac8>"
      ]
     },
     "execution_count": 31,
     "metadata": {},
     "output_type": "execute_result"
    },
    {
     "data": {
      "text/plain": [
       "[]"
      ]
     },
     "execution_count": 31,
     "metadata": {},
     "output_type": "execute_result"
    },
    {
     "data": {
      "text/plain": [
       "(-0.1, 1)"
      ]
     },
     "execution_count": 31,
     "metadata": {},
     "output_type": "execute_result"
    },
    {
     "data": {
      "text/plain": [
       "Text(0.5, 0, 'Silhouette coefficient values')"
      ]
     },
     "execution_count": 31,
     "metadata": {},
     "output_type": "execute_result"
    },
    {
     "data": {
      "text/plain": [
       "Text(0, 0.5, 'Cluster labels')"
      ]
     },
     "execution_count": 31,
     "metadata": {},
     "output_type": "execute_result"
    },
    {
     "data": {
      "text/plain": [
       "Text(0.5, 1.02, 'Silhouette plot for the various clusters')"
      ]
     },
     "execution_count": 31,
     "metadata": {},
     "output_type": "execute_result"
    },
    {
     "name": "stdout",
     "output_type": "stream",
     "text": [
      "No. of iterations to convergence: 7\n"
     ]
    },
    {
     "data": {
      "text/plain": [
       "<BarContainer object of 28 artists>"
      ]
     },
     "execution_count": 31,
     "metadata": {},
     "output_type": "execute_result"
    },
    {
     "data": {
      "text/plain": [
       "Text(-0.03, 14.0, '1')"
      ]
     },
     "execution_count": 31,
     "metadata": {},
     "output_type": "execute_result"
    },
    {
     "data": {
      "text/plain": [
       "<BarContainer object of 21 artists>"
      ]
     },
     "execution_count": 31,
     "metadata": {},
     "output_type": "execute_result"
    },
    {
     "data": {
      "text/plain": [
       "Text(-0.03, 38.5, '2')"
      ]
     },
     "execution_count": 31,
     "metadata": {},
     "output_type": "execute_result"
    },
    {
     "data": {
      "text/plain": [
       "<BarContainer object of 18 artists>"
      ]
     },
     "execution_count": 31,
     "metadata": {},
     "output_type": "execute_result"
    },
    {
     "data": {
      "text/plain": [
       "Text(-0.03, 58.0, '3')"
      ]
     },
     "execution_count": 31,
     "metadata": {},
     "output_type": "execute_result"
    },
    {
     "data": {
      "text/plain": [
       "<BarContainer object of 21 artists>"
      ]
     },
     "execution_count": 31,
     "metadata": {},
     "output_type": "execute_result"
    },
    {
     "data": {
      "text/plain": [
       "Text(-0.03, 77.5, '4')"
      ]
     },
     "execution_count": 31,
     "metadata": {},
     "output_type": "execute_result"
    },
    {
     "data": {
      "text/plain": [
       "<BarContainer object of 48 artists>"
      ]
     },
     "execution_count": 31,
     "metadata": {},
     "output_type": "execute_result"
    },
    {
     "data": {
      "text/plain": [
       "Text(-0.03, 112.0, '5')"
      ]
     },
     "execution_count": 31,
     "metadata": {},
     "output_type": "execute_result"
    },
    {
     "data": {
      "text/plain": [
       "<BarContainer object of 42 artists>"
      ]
     },
     "execution_count": 31,
     "metadata": {},
     "output_type": "execute_result"
    },
    {
     "data": {
      "text/plain": [
       "Text(-0.03, 157.0, '6')"
      ]
     },
     "execution_count": 31,
     "metadata": {},
     "output_type": "execute_result"
    },
    {
     "data": {
      "text/plain": [
       "<matplotlib.lines.Line2D at 0x205b8d8f978>"
      ]
     },
     "execution_count": 31,
     "metadata": {},
     "output_type": "execute_result"
    },
    {
     "data": {
      "text/plain": [
       "[]"
      ]
     },
     "execution_count": 31,
     "metadata": {},
     "output_type": "execute_result"
    },
    {
     "data": {
      "text/plain": [
       "(-0.1, 1)"
      ]
     },
     "execution_count": 31,
     "metadata": {},
     "output_type": "execute_result"
    },
    {
     "data": {
      "text/plain": [
       "Text(0.5, 0, 'Silhouette coefficient values')"
      ]
     },
     "execution_count": 31,
     "metadata": {},
     "output_type": "execute_result"
    },
    {
     "data": {
      "text/plain": [
       "Text(0, 0.5, 'Cluster labels')"
      ]
     },
     "execution_count": 31,
     "metadata": {},
     "output_type": "execute_result"
    },
    {
     "data": {
      "text/plain": [
       "Text(0.5, 1.02, 'Silhouette plot for the various clusters')"
      ]
     },
     "execution_count": 31,
     "metadata": {},
     "output_type": "execute_result"
    },
    {
     "data": {
      "image/png": "[encoded data removed]",
      "text/plain": [
       "<Figure size 1296x504 with 1 Axes>"
      ]
     },
     "metadata": {},
     "output_type": "display_data"
    },
    {
     "data": {
      "image/png": "[encoded data removed]",
      "text/plain": [
       "<Figure size 1296x504 with 1 Axes>"
      ]
     },
     "metadata": {},
     "output_type": "display_data"
    },
    {
     "data": {
      "image/png": "[encoded data removed]",
      "text/plain": [
       "<Figure size 1296x504 with 1 Axes>"
      ]
     },
     "metadata": {},
     "output_type": "display_data"
    },
    {
     "data": {
      "image/png": "[encoded data removed]",
      "text/plain": [
       "<Figure size 1296x504 with 1 Axes>"
      ]
     },
     "metadata": {},
     "output_type": "display_data"
    },
    {
     "data": {
      "image/png": "[encoded data removed]",
      "text/plain": [
       "<Figure size 1296x504 with 1 Axes>"
      ]
     },
     "metadata": {},
     "output_type": "display_data"
    }
   ],
   "source": [
    "#Converting df to numpy array as its better for slicing\n",
    "df_n = df_scaled.to_numpy()\n",
    "for i, k in enumerate([2, 3, 4, 5 , 6]):\n",
    "    fig, ax1 = plt.subplots()\n",
    "    fig.set_size_inches(18, 7)\n",
    "    \n",
    "    # Run the KMeans_custom algorithm\n",
    "    km = KMeans_custom(n_clusters=k)\n",
    "    labels = km.fit_predict(df_n)\n",
    "    centroids = km.cluster_centers_\n",
    "\n",
    "    # Get silhouette samples\n",
    "    silhouette_vals = silhouette_samples(df_n, labels)\n",
    "\n",
    "    # Silhouette plot\n",
    "    y_ticks = []\n",
    "    y_lower, y_upper = 0, 0\n",
    "    for i, cluster in enumerate(np.unique(labels)):\n",
    "        cluster_silhouette_vals = silhouette_vals[labels == cluster]\n",
    "        cluster_silhouette_vals.sort()\n",
    "        y_upper += len(cluster_silhouette_vals)\n",
    "        ax1.barh(range(y_lower, y_upper), cluster_silhouette_vals, edgecolor='none', height=1)\n",
    "        ax1.text(-0.03, (y_lower + y_upper) / 2, str(i + 1))\n",
    "        y_lower += len(cluster_silhouette_vals)\n",
    "\n",
    "    # Get the average silhouette score and plot it\n",
    "    avg_score = np.mean(silhouette_vals)\n",
    "    ax1.axvline(avg_score, linestyle='--', linewidth=2, color='green')\n",
    "    ax1.set_yticks([])\n",
    "    ax1.set_xlim([-0.1, 1])\n",
    "    ax1.set_xlabel('Silhouette coefficient values')\n",
    "    ax1.set_ylabel('Cluster labels')\n",
    "    ax1.set_title('Silhouette plot for the various clusters', y=1.02);\n",
    "    "
   ]
  },
  {
   "cell_type": "markdown",
   "metadata": {},
   "source": [
    "### References:"
   ]
  },
  {
   "cell_type": "raw",
   "metadata": {},
   "source": [
    "https://stats.stackexchange.com/questions/108743/methods-in-r-or-python-to-perform-feature-selection-in-unsupervised-learning\n",
    "https://kenzotakahashi.github.io/k-means-clustering-from-scratch-in-python.html\n",
    "https://imaddabbura.github.io/post/KMeans_custom_clustering/\n",
    "https://bl.ocks.org/rpgove/0060ff3b656618e9136b\n",
    "https://scikit-learn.org/stable/modules/classes.html#sklearn-metrics-metrics"
   ]
  }
 ],
 "metadata": {
  "kernelspec": {
   "display_name": "Python 3",
   "language": "python",
   "name": "python3"
  },
  "language_info": {
   "codemirror_mode": {
    "name": "ipython",
    "version": 3
   },
   "file_extension": ".py",
   "mimetype": "text/x-python",
   "name": "python",
   "nbconvert_exporter": "python",
   "pygments_lexer": "ipython3",
   "version": "3.7.1"
  }
 },
 "nbformat": 4,
 "nbformat_minor": 2
}
